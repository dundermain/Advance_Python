{
 "cells": [
  {
   "cell_type": "markdown",
   "metadata": {},
   "source": [
    "Tutorials from https://youtube.com/playlist?list=PL7yh-TELLS1FuqLSjl5bgiQIEH25VEmIc&feature=shared\n"
   ]
  },
  {
   "cell_type": "markdown",
   "metadata": {},
   "source": [
    "encapsulation helps us to hide certain attributes and methods from instances or objects of the class"
   ]
  },
  {
   "cell_type": "code",
   "execution_count": 2,
   "metadata": {},
   "outputs": [
    {
     "name": "stdout",
     "output_type": "stream",
     "text": [
      "John\n"
     ]
    }
   ],
   "source": [
    "class Person:\n",
    "\n",
    "    def __init__(self, name, age, gender):\n",
    "        self.name = name         \n",
    "        self.age = age\n",
    "        self.gender = gender\n",
    "\n",
    "p1 = Person(\"John\", 36, \"Male\")\n",
    "print(p1.name) #this will return John as results"
   ]
  },
  {
   "cell_type": "code",
   "execution_count": 1,
   "metadata": {},
   "outputs": [
    {
     "ename": "AttributeError",
     "evalue": "'Person' object has no attribute 'name'",
     "output_type": "error",
     "traceback": [
      "\u001b[0;31m---------------------------------------------------------------------------\u001b[0m",
      "\u001b[0;31mAttributeError\u001b[0m                            Traceback (most recent call last)",
      "\u001b[1;32m/home/sachin/Music/Advance_Python/encapsulation.ipynb Cell 2\u001b[0m line \u001b[0;36m1\n\u001b[1;32m      <a href='vscode-notebook-cell:/home/sachin/Music/Advance_Python/encapsulation.ipynb#W0sZmlsZQ%3D%3D?line=5'>6</a>\u001b[0m         \u001b[39mself\u001b[39m\u001b[39m.\u001b[39m__gender \u001b[39m=\u001b[39m gender\n\u001b[1;32m     <a href='vscode-notebook-cell:/home/sachin/Music/Advance_Python/encapsulation.ipynb#W0sZmlsZQ%3D%3D?line=11'>12</a>\u001b[0m p1 \u001b[39m=\u001b[39m Person(\u001b[39m\"\u001b[39m\u001b[39mJohn\u001b[39m\u001b[39m\"\u001b[39m, \u001b[39m36\u001b[39m, \u001b[39m\"\u001b[39m\u001b[39mMale\u001b[39m\u001b[39m\"\u001b[39m)\n\u001b[0;32m---> <a href='vscode-notebook-cell:/home/sachin/Music/Advance_Python/encapsulation.ipynb#W0sZmlsZQ%3D%3D?line=12'>13</a>\u001b[0m \u001b[39mprint\u001b[39m(p1\u001b[39m.\u001b[39;49mname)\n",
      "\u001b[0;31mAttributeError\u001b[0m: 'Person' object has no attribute 'name'"
     ]
    }
   ],
   "source": [
    "class Person:\n",
    "\n",
    "    def __init__(self, name, age, gender):\n",
    "        self.__name = name         # __name the double underscore before the attribute name makes it a private attribute\n",
    "        self.__age = age\n",
    "        self.__gender = gender\n",
    "\n",
    "p1 = Person(\"John\", 36, \"Male\")\n",
    "print(p1.name)  #we will get an error as name is private and cannot be accessed by the instances\n",
    "\n",
    "#now lets make name accessible to the instances using getter-setter method"
   ]
  },
  {
   "cell_type": "code",
   "execution_count": 7,
   "metadata": {},
   "outputs": [
    {
     "name": "stdout",
     "output_type": "stream",
     "text": [
      "John\n"
     ]
    }
   ],
   "source": [
    "class Person:\n",
    "\n",
    "    def __init__(self, name, age, gender):\n",
    "        self.__name = name         # __name the double underscore before the attribute name makes it a private attribute\n",
    "        self.__age = age\n",
    "        self.__gender = gender\n",
    "\n",
    "    def get_name(self):              #Getter to get the values of the attribute when an instance is called\n",
    "        return self.__name\n",
    "    \n",
    "    def set_name(self, value):       #setter to set the value when an intance is created\n",
    "        self.__name = value\n",
    "\n",
    "\n",
    "\n",
    "p1 = Person(\"John\", 36, \"Male\")\n",
    "print(p1.get_name())\n"
   ]
  },
  {
   "cell_type": "markdown",
   "metadata": {},
   "source": [
    "Now there is a more neat way to do this is through decorators\n",
    "\n",
    "we can use @property decorators \n",
    "Specifically, you can define three methods for a property:\n",
    "\n",
    "    A getter - to access the value of the attribute.\n",
    "    A setter - to set the value of the attribute.\n",
    "    A deleter - to delete the instance attribute. Used to delete the attribute"
   ]
  },
  {
   "cell_type": "code",
   "execution_count": 5,
   "metadata": {},
   "outputs": [
    {
     "name": "stdout",
     "output_type": "stream",
     "text": [
      "John\n"
     ]
    },
    {
     "ename": "AttributeError",
     "evalue": "'Person' object has no attribute 'name'",
     "output_type": "error",
     "traceback": [
      "\u001b[0;31m---------------------------------------------------------------------------\u001b[0m",
      "\u001b[0;31mAttributeError\u001b[0m                            Traceback (most recent call last)",
      "\u001b[1;32m/home/sachin/Music/Advance_Python/encapsulation.ipynb Cell 4\u001b[0m line \u001b[0;36m2\n\u001b[1;32m     <a href='vscode-notebook-cell:/home/sachin/Music/Advance_Python/encapsulation.ipynb#W2sZmlsZQ%3D%3D?line=17'>18</a>\u001b[0m p1 \u001b[39m=\u001b[39m Person(\u001b[39m\"\u001b[39m\u001b[39mJohn\u001b[39m\u001b[39m\"\u001b[39m, \u001b[39m36\u001b[39m, \u001b[39m\"\u001b[39m\u001b[39mMale\u001b[39m\u001b[39m\"\u001b[39m)\n\u001b[1;32m     <a href='vscode-notebook-cell:/home/sachin/Music/Advance_Python/encapsulation.ipynb#W2sZmlsZQ%3D%3D?line=18'>19</a>\u001b[0m \u001b[39mprint\u001b[39m(p1\u001b[39m.\u001b[39mName) \u001b[39m#this will work\u001b[39;00m\n\u001b[0;32m---> <a href='vscode-notebook-cell:/home/sachin/Music/Advance_Python/encapsulation.ipynb#W2sZmlsZQ%3D%3D?line=19'>20</a>\u001b[0m \u001b[39mprint\u001b[39m(p1\u001b[39m.\u001b[39;49mname) \u001b[39m#this will not work as setter method is usually written in first letter as capital to demarcate it from private attributes\u001b[39;00m\n",
      "\u001b[0;31mAttributeError\u001b[0m: 'Person' object has no attribute 'name'"
     ]
    }
   ],
   "source": [
    "class Person:\n",
    "\n",
    "    def __init__(self, name, age, gender):\n",
    "        self.__name = name         # __name the double underscore before the attribute name makes it a private attribute\n",
    "        self.__age = age\n",
    "        self.__gender = gender\n",
    "\n",
    "    @property\n",
    "    def Name(self):              #Ideally the first letter should be upper case\n",
    "        return self.__name\n",
    "    \n",
    "    @Name.setter\n",
    "    def Name(self, value):\n",
    "        self.__name = value\n",
    "\n",
    "\n",
    "\n",
    "p1 = Person(\"John\", 36, \"Male\")\n",
    "print(p1.Name) #this will work\n",
    "print(p1.name) #this will not work as setter method is usually written in first letter as capital to demarcate it from private attributes"
   ]
  },
  {
   "cell_type": "code",
   "execution_count": null,
   "metadata": {},
   "outputs": [],
   "source": []
  }
 ],
 "metadata": {
  "kernelspec": {
   "display_name": "Python 3",
   "language": "python",
   "name": "python3"
  },
  "language_info": {
   "codemirror_mode": {
    "name": "ipython",
    "version": 3
   },
   "file_extension": ".py",
   "mimetype": "text/x-python",
   "name": "python",
   "nbconvert_exporter": "python",
   "pygments_lexer": "ipython3",
   "version": "3.10.12"
  }
 },
 "nbformat": 4,
 "nbformat_minor": 2
}

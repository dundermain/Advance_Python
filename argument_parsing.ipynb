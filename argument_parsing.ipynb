{
 "cells": [
  {
   "cell_type": "markdown",
   "metadata": {},
   "source": [
    "*args is a list of arguments\n",
    "**kwargs is a dictionary of keyword arguments\n",
    "\n",
    "the difference between args and kwargs is \n",
    "- args are positional arguments that doesnot requie a key so it will give a list\n",
    "-kwars are keyword arguments means they have a key for every argument so it will give a dictionary as output"
   ]
  },
  {
   "cell_type": "code",
   "execution_count": null,
   "metadata": {},
   "outputs": [],
   "source": []
  }
 ],
 "metadata": {
  "language_info": {
   "name": "python"
  }
 },
 "nbformat": 4,
 "nbformat_minor": 2
}

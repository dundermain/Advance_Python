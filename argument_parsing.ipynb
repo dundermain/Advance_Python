{
 "cells": [
  {
   "cell_type": "markdown",
   "metadata": {},
   "source": [
    "*args is a list of arguments\n",
    "**kwargs is a dictionary of keyword arguments\n",
    "\n",
    "the difference between args and kwargs is \n",
    "- args are positional arguments that doesnot requie a key so it will give a list\n",
    "-kwars are keyword arguments means they have a key for every argument so it will give a dictionary as output"
   ]
  },
  {
   "cell_type": "markdown",
   "metadata": {},
   "source": [
    "Now let see how can we pass variable argument to the scripts"
   ]
  },
  {
   "cell_type": "code",
   "execution_count": 4,
   "metadata": {},
   "outputs": [
    {
     "name": "stdout",
     "output_type": "stream",
     "text": [
      "/home/sachin/.local/lib/python3.10/site-packages/ipykernel_launcher.py\n",
      "--f=/home/sachin/.local/share/jupyter/runtime/kernel-v2-60569hv931I9ldBNV.json\n"
     ]
    }
   ],
   "source": [
    "import sys\n",
    "\n",
    "print(sys.argv[0]) #always be the file name/ script name\n",
    "print(sys.argv[1]) \n"
   ]
  },
  {
   "cell_type": "code",
   "execution_count": null,
   "metadata": {},
   "outputs": [],
   "source": [
    "filename = sys.argv[0]\n",
    "message = sys.argv[1]\n",
    "\n",
    "with open(filename, \"w\") as f:\n",
    "    f.write(message)\n",
    "\n",
    "#its usage command will be \"python3 main.py message\""
   ]
  },
  {
   "cell_type": "markdown",
   "metadata": {},
   "source": [
    "Now let us see how can we parse the optional arguments to our script.\n",
    "Remember passing argument for a function is completely different than passign argument for scripts"
   ]
  },
  {
   "cell_type": "code",
   "execution_count": 6,
   "metadata": {},
   "outputs": [
    {
     "ename": "GetoptError",
     "evalue": "option --filename must not have an argument",
     "output_type": "error",
     "traceback": [
      "\u001b[0;31m---------------------------------------------------------------------------\u001b[0m",
      "\u001b[0;31mGetoptError\u001b[0m                               Traceback (most recent call last)",
      "\u001b[1;32m/home/sachin/Music/Advance_Python/argument_parsing.ipynb Cell 6\u001b[0m line \u001b[0;36m6\n\u001b[1;32m      <a href='vscode-notebook-cell:/home/sachin/Music/Advance_Python/argument_parsing.ipynb#W4sZmlsZQ%3D%3D?line=2'>3</a>\u001b[0m \u001b[39mimport\u001b[39;00m \u001b[39msys\u001b[39;00m\n\u001b[1;32m      <a href='vscode-notebook-cell:/home/sachin/Music/Advance_Python/argument_parsing.ipynb#W4sZmlsZQ%3D%3D?line=3'>4</a>\u001b[0m \u001b[39mimport\u001b[39;00m \u001b[39mgetopt\u001b[39;00m\n\u001b[0;32m----> <a href='vscode-notebook-cell:/home/sachin/Music/Advance_Python/argument_parsing.ipynb#W4sZmlsZQ%3D%3D?line=5'>6</a>\u001b[0m opts, args \u001b[39m=\u001b[39m getopt\u001b[39m.\u001b[39;49mgetopt(sys\u001b[39m.\u001b[39;49margv[\u001b[39m1\u001b[39;49m:], \u001b[39m\"\u001b[39;49m\u001b[39mf:m:\u001b[39;49m\u001b[39m\"\u001b[39;49m, [\u001b[39m'\u001b[39;49m\u001b[39mfilename\u001b[39;49m\u001b[39m'\u001b[39;49m, \u001b[39m'\u001b[39;49m\u001b[39mmessage\u001b[39;49m\u001b[39m'\u001b[39;49m])  \u001b[39m#the colon \":\" sign means the program expects an argument after the letter so in this case we have to give -f something -m something\u001b[39;00m\n\u001b[1;32m      <a href='vscode-notebook-cell:/home/sachin/Music/Advance_Python/argument_parsing.ipynb#W4sZmlsZQ%3D%3D?line=7'>8</a>\u001b[0m \u001b[39mprint\u001b[39m(opts, args)\n",
      "File \u001b[0;32m/usr/lib/python3.10/getopt.py:93\u001b[0m, in \u001b[0;36mgetopt\u001b[0;34m(args, shortopts, longopts)\u001b[0m\n\u001b[1;32m     91\u001b[0m     \u001b[39mbreak\u001b[39;00m\n\u001b[1;32m     92\u001b[0m \u001b[39mif\u001b[39;00m args[\u001b[39m0\u001b[39m]\u001b[39m.\u001b[39mstartswith(\u001b[39m'\u001b[39m\u001b[39m--\u001b[39m\u001b[39m'\u001b[39m):\n\u001b[0;32m---> 93\u001b[0m     opts, args \u001b[39m=\u001b[39m do_longs(opts, args[\u001b[39m0\u001b[39;49m][\u001b[39m2\u001b[39;49m:], longopts, args[\u001b[39m1\u001b[39;49m:])\n\u001b[1;32m     94\u001b[0m \u001b[39melse\u001b[39;00m:\n\u001b[1;32m     95\u001b[0m     opts, args \u001b[39m=\u001b[39m do_shorts(opts, args[\u001b[39m0\u001b[39m][\u001b[39m1\u001b[39m:], shortopts, args[\u001b[39m1\u001b[39m:])\n",
      "File \u001b[0;32m/usr/lib/python3.10/getopt.py:164\u001b[0m, in \u001b[0;36mdo_longs\u001b[0;34m(opts, opt, longopts, args)\u001b[0m\n\u001b[1;32m    162\u001b[0m         optarg, args \u001b[39m=\u001b[39m args[\u001b[39m0\u001b[39m], args[\u001b[39m1\u001b[39m:]\n\u001b[1;32m    163\u001b[0m \u001b[39melif\u001b[39;00m optarg \u001b[39mis\u001b[39;00m \u001b[39mnot\u001b[39;00m \u001b[39mNone\u001b[39;00m:\n\u001b[0;32m--> 164\u001b[0m     \u001b[39mraise\u001b[39;00m GetoptError(_(\u001b[39m'\u001b[39m\u001b[39moption --\u001b[39m\u001b[39m%s\u001b[39;00m\u001b[39m must not have an argument\u001b[39m\u001b[39m'\u001b[39m) \u001b[39m%\u001b[39m opt, opt)\n\u001b[1;32m    165\u001b[0m opts\u001b[39m.\u001b[39mappend((\u001b[39m'\u001b[39m\u001b[39m--\u001b[39m\u001b[39m'\u001b[39m \u001b[39m+\u001b[39m opt, optarg \u001b[39mor\u001b[39;00m \u001b[39m'\u001b[39m\u001b[39m'\u001b[39m))\n\u001b[1;32m    166\u001b[0m \u001b[39mreturn\u001b[39;00m opts, args\n",
      "\u001b[0;31mGetoptError\u001b[0m: option --filename must not have an argument"
     ]
    }
   ],
   "source": [
    "#option arguments parsing\n",
    "\n",
    "import sys\n",
    "import getopt\n",
    "\n",
    "opts, args = getopt.getopt(sys.argv[1:], \"f:m:\", ['filename', 'message'])  \n",
    "#the colon \":\" sign means the program expects an argument after the letter so in this case we have to give -f something -m something\n",
    "\n",
    "print(opts, args)\n"
   ]
  },
  {
   "cell_type": "code",
   "execution_count": null,
   "metadata": {},
   "outputs": [],
   "source": [
    "#the script will be something like this\n",
    "\n",
    "import sys\n",
    "import getopt\n",
    "\n",
    "opts, args = getopt.getopt(sys.argv[1:], \"f:m:\", ['filename', 'message'])\n",
    "\n",
    "for opt, arg in opts:\n",
    "    if opt == \"-f\":\n",
    "        filename = arg\n",
    "    if opt == \"-m\":\n",
    "        message = arg\n",
    "\n",
    "#as you can see from the above code -f is key for the argument value filename and -m is the key for argument value messgage\n",
    "\n",
    "with open(filename, \"w+\") as f:\n",
    "    f.write(message)\n",
    "    "
   ]
  }
 ],
 "metadata": {
  "kernelspec": {
   "display_name": "Python 3",
   "language": "python",
   "name": "python3"
  },
  "language_info": {
   "codemirror_mode": {
    "name": "ipython",
    "version": 3
   },
   "file_extension": ".py",
   "mimetype": "text/x-python",
   "name": "python",
   "nbconvert_exporter": "python",
   "pygments_lexer": "ipython3",
   "version": "3.10.12"
  }
 },
 "nbformat": 4,
 "nbformat_minor": 2
}
